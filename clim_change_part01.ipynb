{
 "cells": [
  {
   "cell_type": "markdown",
   "id": "86e15c25-77a6-4102-b932-b766a1bd0f75",
   "metadata": {},
   "source": [
    "## Globale Temperaturänderungen und Gefahren\n",
    "\n",
    "### Teil 1\n",
    "- Projektinformationen & Vorabrecherche\n",
    "- Temperatur- & Geodaten einlesen, analysieren und aufbereiten\n",
    "\n",
    "## 1. Projektziele\n",
    "\n",
    "**Daten, aus zwei verschiedenen Quellen, mit ortsbezogenen Informationen zum Klimawandel,\\\n",
    "werden deskriptiv analysiert, aufbereitet und visualisiert.**\n",
    "\n",
    "### ETL-Prozess\n",
    "- Die Verarbeitungsschritte sollen in einer möglichst Arbeitsressourcen schonenden Weise stattfinden,\\\n",
    "  u.a. um größere Datenmengen auch auf leistungsschwachen Systemen verarbeiten zu können.\n",
    "- Daten werden zu Teil umstrukturiert, durch Auslagerung in separate Frames\n",
    "- Redundanzen werden verringert\n",
    "- Für die Betrachtung unnötige Daten werden gekürzt, zusammengefasst, entfernt\n",
    "- Speicherverwendung wird berücksichtigt\n",
    "- Die Zusammenführung der Daten findet auch unter dem Aspekt des Datenerhaltes statt\n",
    "\n",
    "### Analyse & Visualisierung\n",
    "- Daten werden vorweg eingelesen, gesichtet und geprüft, um die Verarbeitungsschritte möglichst zielorientiert zu gestalten.\n",
    "- Während des Verarbeitungsprozesses wird kontinuierlich geprüft, ob eine Anpassung der Verarbeitungslogik erforderlich ist. \n",
    "- Es kommen u.a. NumPy, Pandas, ... zum Einsatz.\n",
    "- Zur Visualisierung wird Ploty Express verwendet.\n",
    "\n",
    "### Speicherbedarf\n",
    "Übersicht der Speicherverwendung verschiedener Datentypen im Vergleich\n",
    "\n",
    "---\n",
    "\n",
    "#### String\n",
    "\n",
    "| Framework | String-Typ       | Speicherbedarf (Formel)     | Bemerkung                                                                  |\n",
    "|-----------|------------------|-----------------------------|----------------------------------------------------------------------------|\n",
    "| Python    | `str`            | 49 Bytes + 1 Byte/Char      | Hoher Objekt-Overhead, flexibel, ineffizient für große Datenmengen.        |\n",
    "| NumPy     | `np.str_`        | 4 Bytes/Char (UTF-32)       | Fester Puffer, ineffizient für kurze Strings.                              |\n",
    "| Pandas    | `object`-Dtype   | 57 Bytes + 1 Byte/Char      | Zeiger (8 Bytes) + Python-String.                                          |\n",
    "| Pandas    | `string` (Arrow) | **4 Bytes + 1 Byte/Char**   | Effizienter Speicher mit Apache Arrow-Backend.                             |\n",
    "| PySpark   | `StringType`     | ca. 40 Bytes + 2 Bytes/Char | Serialisierung über JVM/Arrow, optimiert für verteilte Big-Data-Szenarien. |\n",
    "\n",
    "---\n",
    "\n",
    "#### Float\n",
    "\n",
    "| Framework | Float-Typ    | Speicherbedarf | Präzision (Beispiel)                         | Anwendungsszenario                                                           |\n",
    "|-----------|--------------|----------------|----------------------------------------------|------------------------------------------------------------------------------|\n",
    "| Python    | `float`      | 24 Bytes       | ≈15–17 Dezimalstellen                        | Allgemeine Berechnungen, kleine Datensätze.                                  |\n",
    "| NumPy     | `float16`    | 2 Bytes        | ≈3 Dezimalstellen                            | Machine Learning (z.B. TensorFlow-Modelle), Speichereffizienz vor Präzision. |\n",
    "| NumPy     | `float32`    | 4 Bytes        | ≈6–7 Dezimalstellen (≈1,7 m bei Koordinaten) | Geodaten (Heatmaps, Cluster), Echtzeit-Sensordaten.                          |\n",
    "| NumPy     | `float64`    | 8 Bytes        | ≈15–17 Dezimalstellen (≈3,16 nm)             | Wissenschaftliche Berechnungen, Vermessung, millimetergenaue Anwendungen.    |\n",
    "| Pandas    | `float32`    | 4 Bytes        | Wie NumPy                                    | Reduktion des Speicherbedarfs bei großen DataFrames.                         |\n",
    "| Pandas    | `float64`    | 8 Bytes        | Wie NumPy                                    | Standard für präzise numerische Operationen.                                 |\n",
    "| PySpark   | `FloatType`  | 4 Bytes        | Wie `float32`                                | Big-Data-Analysen, Speichereffizienz in verteilten Systemen.                 |\n",
    "| PySpark   | `DoubleType` | 8 Bytes        | Wie `float64`                                | Hochpräzise Berechnungen in Spark-Anwendungen.                               |\n",
    "\n",
    "---\n",
    "\n",
    "#### Date\n",
    "\n",
    "| Framework | Date-Typ         | Speicherbedarf | Auflösung    | Anwendungsszenario                                                |\n",
    "|-----------|------------------|----------------|--------------|-------------------------------------------------------------------|\n",
    "| Python    | `datetime.date`  | ≥48 Bytes      | Tage         | Kleine Datensätze, einfache Datumsoperationen.                    |\n",
    "| NumPy     | `datetime64[D]`  | 8 Bytes        | Tage         | Effiziente Speicherung von Datumsreihen (z.B. Zeitreihenanalyse). |\n",
    "| Pandas    | `datetime64[ns]` | 8 Bytes        | Nanosekunden | Standard für Zeitstempel in Pandas, hohe Präzision.               |\n",
    "| PySpark   | `DateType`       | 4 Bytes        | Tage         | Optimiert für verteilte Verarbeitung in Spark-Clustern.           |\n",
    "\n",
    "---\n",
    "\n",
    "#### Empfehlungen\n",
    "- **Strings:** Pandas mit Arrow-Backend (`dtype=\"string\"`) oder PySpark für Big Data.\n",
    "- **Floats:** `float32` für Geodaten (wenn ≈2 m Toleranz akzeptabel) und `float64` für Präzision.\n",
    "- **Datum:** Pandas `datetime64[ns]` für maximale Flexibilität, PySpark `DateType` für verteilte Systeme.\n",
    "\n",
    "*<p style=\"text-align: right;\">Antwort von Perplexity (modifiziert)</p>*\n",
    "\n",
    "---\n",
    "\n",
    "## 2. Datenquellen\n",
    "\n",
    "#### Climate Change\n",
    "Climate Change: Earth Surface Temperature Data\\\n",
    "Monatliche Durchschnittstemperaturen zu Städten von November 1743 bis September 2013\n",
    "\n",
    "> https://www.kaggle.com/datasets/berkeleyearth/climate-change-earth-surface-temperature-data\n",
    "\n",
    "> `GlobalLandTemperaturesByCity.csv` - ca. 520 MB\n",
    "\n",
    "#### Climate Hazards\n",
    "2023 Cities Climate Hazards\\\n",
    "Bisherige sowie prognostizierte Auswirkungen des Klimawandels in Städten - Stand 2023\n",
    "\n",
    "> https://data.cdp.net/Climate-Hazards/2023-Cities-Climate-Hazards/rng4-m4ks/about_data\n",
    "\n",
    "> `2023_Cities_Climate_Hazards_20250506.csv` - ca. 6 MB\n",
    "\n",
    "<br>\n",
    "\n",
    "---\n",
    "\n",
    "## 3. Arbeitsumgebung\n",
    "- Windows 10 Education 22H2 (per RDP)\n",
    "- Python 3.12.9\n",
    "- JupyterLab Desktop 4.2.5-1\n",
    "\n",
    "<br>\n",
    "\n",
    "---"
   ]
  },
  {
   "cell_type": "code",
   "execution_count": 20,
   "id": "476673d5-565e-4fe5-8795-e04b03d96543",
   "metadata": {
    "editable": true,
    "slideshow": {
     "slide_type": ""
    },
    "tags": []
   },
   "outputs": [],
   "source": [
    "import numpy as np\n",
    "import pandas as pd\n",
    "from lat_lon_parser import parse\n",
    "from openlocationcode import openlocationcode as olc\n",
    "\n",
    "pd.set_option('display.max_colwidth', None)  # Spaltenbreitenberschränkung aufheben"
   ]
  },
  {
   "attachments": {},
   "cell_type": "markdown",
   "id": "a5700f3c-39cd-4b94-9886-9f5931c188e8",
   "metadata": {},
   "source": [
    "# Temperatur- & Geodaten einlesen und aufbereiten\n",
    "\n",
    "## 1. Einlesen\n",
    "\n",
    "### Temperaturdaten [ celsius_df ]\n",
    "Ausgewählte Spalten werden aus GlobalLandTemperaturesByCity.csv ins das Dataframe `celsius_df` geladen:\n",
    "| Spalte | Beschreibung | Anmerkung |\n",
    "|-|-|-|\n",
    "| dt | Monat des Temperaturwerts | Datum im String 'yyyy-mm-dd' |\n",
    "| City | Stadt | bis zu 3 Geo-Koordinaten | unterschiedliche Orte, selber Name\n",
    "| AverageTemperature | AVG Temperatur pro Monat | Temperaturwerte unvollständig |\n",
    "| Latitude | Breitengrade | Dezimalgrad mit Richtungsbuchstaben\n",
    "| Longitude | Längengrade | Dezimalgrad mit Richtungsbuchstaben\n",
    "\n",
    "### Geodaten [ geo_df ]\n",
    "Ausgewählte Spalten werden aus GlobalLandTemperaturesByCity.csv ins das Dataframe `geo_df` geladen:\n",
    "| Spalte | Beschreibung | Anmerkung |\n",
    "|-|-|-|\n",
    "| City | Stadt | bis zu 3 Geo-Koordinaten | unterschiedliche Orte, selber Name\n",
    "| Country | Land |\n",
    "| Latitude | Breitengrade | Dezimalgrad mit Richtungsbuchstaben\n",
    "| Longitude | Längengrade | Dezimalgrad mit Richtungsbuchstaben\n",
    "\n",
    "---\n",
    "\n",
    "### pd.info()\n",
    "\n",
    "Pandas zeigt die \"Non-Null Count\"-Spalte nur dann automatisch an, wenn der DataFrame eine bestimmte Größe unterschreitet.\n",
    "- Einstellungen: pandas.options.display.max_info_rows und max_info_columns (default: 1.690.785 Zeilen)\n",
    "- Der Parameter `show_counts=True` erzwingt die \"Non-Null Count\"-Ausgabe\n",
    "\n",
    "Der Speicherbedarf wird nur anhand des Datentyps und der Anzahl der Zeilen geschätzt.\n",
    "- Für numerische Typen ist das exakt, weil jeder Wert im Speicher gleich groß ist\n",
    "- Für object-Spalten wird nur der Zeiger-Speicher gezählt, nicht der tatsächliche Inhalt\n",
    "- Bei vielen langen oder sehr vielen unterschiedlichen Strings kann der Unterschied um ein Vielfaches höher sein,\\\n",
    "  weil jeder String als eigenes Python-Objekt im Speicher liegt und zusätzlichen Overhead verursacht\n",
    "- Der Parameter `memory_usage='deep'` ermittelt die tatsächliche Speicherbelegung der object-Spalten im RAM (kostet mehr Rechenzeit)\n"
   ]
  },
  {
   "cell_type": "code",
   "execution_count": 21,
   "id": "34d73844-1bff-4eaa-8f3a-99fd89927939",
   "metadata": {},
   "outputs": [],
   "source": [
    "# Einlesen von Datum, Stadt und Temperatur aus der Haupt-Datenquelle --> ca. 5 Sekunden\n",
    "celsius_df = pd.read_csv('GlobalLandTemperaturesByCity.csv',\n",
    "                 usecols=['dt', 'City', 'AverageTemperature', 'Latitude', 'Longitude'],\n",
    "                 dtype={'AverageTemperature': 'float32',\n",
    "                        'City': 'string'\n",
    "                       }\n",
    "                )"
   ]
  },
  {
   "cell_type": "markdown",
   "id": "8fc7f362-9778-48c0-a6fd-ae7b06c7a48d",
   "metadata": {},
   "source": [
    "#### celsius_df.info()\n",
    "\n",
    "Der DataFrame enthält **8.599.212 Zeilen**, weswegen \"Non-Null Count\" nicht ausgegeben wird.\\\n",
    "Es wird 295.2+ MB geschätzt und **1.8 GB** ermittelt."
   ]
  },
  {
   "cell_type": "code",
   "execution_count": 22,
   "id": "e462c882-8085-4dbd-b916-20aa5c3ac67e",
   "metadata": {},
   "outputs": [
    {
     "name": "stdout",
     "output_type": "stream",
     "text": [
      "<class 'pandas.core.frame.DataFrame'>\n",
      "RangeIndex: 8599212 entries, 0 to 8599211\n",
      "Data columns (total 5 columns):\n",
      " #   Column              Dtype  \n",
      "---  ------              -----  \n",
      " 0   dt                  object \n",
      " 1   AverageTemperature  float32\n",
      " 2   City                string \n",
      " 3   Latitude            object \n",
      " 4   Longitude           object \n",
      "dtypes: float32(1), object(3), string(1)\n",
      "memory usage: 295.2+ MB\n",
      "\n",
      "<class 'pandas.core.frame.DataFrame'>\n",
      "RangeIndex: 8599212 entries, 0 to 8599211\n",
      "Data columns (total 5 columns):\n",
      " #   Column              Non-Null Count    Dtype  \n",
      "---  ------              --------------    -----  \n",
      " 0   dt                  8599212 non-null  object \n",
      " 1   AverageTemperature  8235082 non-null  float32\n",
      " 2   City                8599212 non-null  string \n",
      " 3   Latitude            8599212 non-null  object \n",
      " 4   Longitude           8599212 non-null  object \n",
      "dtypes: float32(1), object(3), string(1)\n",
      "memory usage: 1.8 GB\n"
     ]
    }
   ],
   "source": [
    "celsius_df.info()\n",
    "print('')\n",
    "celsius_df.info(show_counts=True, memory_usage='deep')  # ca. 4 Sekunden"
   ]
  },
  {
   "cell_type": "code",
   "execution_count": 23,
   "id": "9f983ae1-24f6-49a3-828c-e749e305eead",
   "metadata": {
    "scrolled": true
   },
   "outputs": [
    {
     "data": {
      "text/html": [
       "<div>\n",
       "<style scoped>\n",
       "    .dataframe tbody tr th:only-of-type {\n",
       "        vertical-align: middle;\n",
       "    }\n",
       "\n",
       "    .dataframe tbody tr th {\n",
       "        vertical-align: top;\n",
       "    }\n",
       "\n",
       "    .dataframe thead th {\n",
       "        text-align: right;\n",
       "    }\n",
       "</style>\n",
       "<table border=\"1\" class=\"dataframe\">\n",
       "  <thead>\n",
       "    <tr style=\"text-align: right;\">\n",
       "      <th></th>\n",
       "      <th>dt</th>\n",
       "      <th>AverageTemperature</th>\n",
       "      <th>City</th>\n",
       "      <th>Latitude</th>\n",
       "      <th>Longitude</th>\n",
       "    </tr>\n",
       "  </thead>\n",
       "  <tbody>\n",
       "    <tr>\n",
       "      <th>854890</th>\n",
       "      <td>1976-02-01</td>\n",
       "      <td>10.273</td>\n",
       "      <td>Berkeley</td>\n",
       "      <td>37.78N</td>\n",
       "      <td>122.03W</td>\n",
       "    </tr>\n",
       "    <tr>\n",
       "      <th>1124094</th>\n",
       "      <td>1759-03-01</td>\n",
       "      <td>4.856</td>\n",
       "      <td>Brescia</td>\n",
       "      <td>45.81N</td>\n",
       "      <td>10.38E</td>\n",
       "    </tr>\n",
       "    <tr>\n",
       "      <th>3644108</th>\n",
       "      <td>1888-09-01</td>\n",
       "      <td>27.909</td>\n",
       "      <td>Karachi</td>\n",
       "      <td>24.92N</td>\n",
       "      <td>67.39E</td>\n",
       "    </tr>\n",
       "    <tr>\n",
       "      <th>2065351</th>\n",
       "      <td>1924-05-01</td>\n",
       "      <td>13.968</td>\n",
       "      <td>Dortmund</td>\n",
       "      <td>52.24N</td>\n",
       "      <td>7.88E</td>\n",
       "    </tr>\n",
       "    <tr>\n",
       "      <th>7050299</th>\n",
       "      <td>1783-11-01</td>\n",
       "      <td>NaN</td>\n",
       "      <td>Siverek</td>\n",
       "      <td>37.78N</td>\n",
       "      <td>38.64E</td>\n",
       "    </tr>\n",
       "  </tbody>\n",
       "</table>\n",
       "</div>"
      ],
      "text/plain": [
       "                 dt  AverageTemperature      City Latitude Longitude\n",
       "854890   1976-02-01              10.273  Berkeley   37.78N   122.03W\n",
       "1124094  1759-03-01               4.856   Brescia   45.81N    10.38E\n",
       "3644108  1888-09-01              27.909   Karachi   24.92N    67.39E\n",
       "2065351  1924-05-01              13.968  Dortmund   52.24N     7.88E\n",
       "7050299  1783-11-01                 NaN   Siverek   37.78N    38.64E"
      ]
     },
     "execution_count": 23,
     "metadata": {},
     "output_type": "execute_result"
    }
   ],
   "source": [
    "# Beispielauszug\n",
    "celsius_df.sample(5)"
   ]
  },
  {
   "cell_type": "code",
   "execution_count": 24,
   "id": "7dd93a36-808c-4a34-83e5-55dfe69c912a",
   "metadata": {},
   "outputs": [],
   "source": [
    "# Einlesen von Stadt, Land und Geo-Koordinaten aus der Haupt-Datenquelle --> ca. 6 Sekunden\n",
    "geo_df = pd.read_csv('GlobalLandTemperaturesByCity.csv',\n",
    "                 usecols=['City', 'Country', 'Latitude', 'Longitude'],\n",
    "                 dtype={'City': 'string',\n",
    "                        'Country': 'string'\n",
    "                       }\n",
    "                )"
   ]
  },
  {
   "cell_type": "markdown",
   "id": "fc70926c-a6c2-4977-827c-6b803a03182e",
   "metadata": {},
   "source": [
    "#### geo_df.info()\n",
    "\n",
    "Der DataFrame enthält **8.599.212 Zeilen**, weswegen \"Non-Null Count\" nicht ausgegeben wird.\\\n",
    "Es wird 262.4+ MB geschätzt und **1.8 GB** ermittelt."
   ]
  },
  {
   "cell_type": "code",
   "execution_count": 25,
   "id": "a49c7691-114a-481c-a911-5ba737f565cd",
   "metadata": {},
   "outputs": [
    {
     "name": "stdout",
     "output_type": "stream",
     "text": [
      "<class 'pandas.core.frame.DataFrame'>\n",
      "RangeIndex: 8599212 entries, 0 to 8599211\n",
      "Data columns (total 4 columns):\n",
      " #   Column     Dtype \n",
      "---  ------     ----- \n",
      " 0   City       string\n",
      " 1   Country    string\n",
      " 2   Latitude   object\n",
      " 3   Longitude  object\n",
      "dtypes: object(2), string(2)\n",
      "memory usage: 262.4+ MB\n",
      "\n",
      "<class 'pandas.core.frame.DataFrame'>\n",
      "RangeIndex: 8599212 entries, 0 to 8599211\n",
      "Data columns (total 4 columns):\n",
      " #   Column     Non-Null Count    Dtype \n",
      "---  ------     --------------    ----- \n",
      " 0   City       8599212 non-null  string\n",
      " 1   Country    8599212 non-null  string\n",
      " 2   Latitude   8599212 non-null  object\n",
      " 3   Longitude  8599212 non-null  object\n",
      "dtypes: object(2), string(2)\n",
      "memory usage: 1.8 GB\n"
     ]
    }
   ],
   "source": [
    "geo_df.info()\n",
    "print('')\n",
    "geo_df.info(show_counts=True, memory_usage='deep')  # ca. 6 Sekunden"
   ]
  },
  {
   "cell_type": "code",
   "execution_count": 26,
   "id": "cb34c7d0-d47d-4d1e-8d56-bc4cbf533756",
   "metadata": {},
   "outputs": [
    {
     "data": {
      "text/html": [
       "<div>\n",
       "<style scoped>\n",
       "    .dataframe tbody tr th:only-of-type {\n",
       "        vertical-align: middle;\n",
       "    }\n",
       "\n",
       "    .dataframe tbody tr th {\n",
       "        vertical-align: top;\n",
       "    }\n",
       "\n",
       "    .dataframe thead th {\n",
       "        text-align: right;\n",
       "    }\n",
       "</style>\n",
       "<table border=\"1\" class=\"dataframe\">\n",
       "  <thead>\n",
       "    <tr style=\"text-align: right;\">\n",
       "      <th></th>\n",
       "      <th>City</th>\n",
       "      <th>Country</th>\n",
       "      <th>Latitude</th>\n",
       "      <th>Longitude</th>\n",
       "    </tr>\n",
       "  </thead>\n",
       "  <tbody>\n",
       "    <tr>\n",
       "      <th>6590214</th>\n",
       "      <td>Salto</td>\n",
       "      <td>Uruguay</td>\n",
       "      <td>31.35S</td>\n",
       "      <td>58.43W</td>\n",
       "    </tr>\n",
       "    <tr>\n",
       "      <th>1525346</th>\n",
       "      <td>Chernivtsi</td>\n",
       "      <td>Ukraine</td>\n",
       "      <td>49.03N</td>\n",
       "      <td>26.94E</td>\n",
       "    </tr>\n",
       "    <tr>\n",
       "      <th>5075731</th>\n",
       "      <td>Namangan</td>\n",
       "      <td>Uzbekistan</td>\n",
       "      <td>40.99N</td>\n",
       "      <td>72.43E</td>\n",
       "    </tr>\n",
       "    <tr>\n",
       "      <th>1258244</th>\n",
       "      <td>Cabanatuan</td>\n",
       "      <td>Philippines</td>\n",
       "      <td>15.27N</td>\n",
       "      <td>120.83E</td>\n",
       "    </tr>\n",
       "    <tr>\n",
       "      <th>410720</th>\n",
       "      <td>Armenia</td>\n",
       "      <td>Colombia</td>\n",
       "      <td>4.02N</td>\n",
       "      <td>76.34W</td>\n",
       "    </tr>\n",
       "  </tbody>\n",
       "</table>\n",
       "</div>"
      ],
      "text/plain": [
       "               City      Country Latitude Longitude\n",
       "6590214       Salto      Uruguay   31.35S    58.43W\n",
       "1525346  Chernivtsi      Ukraine   49.03N    26.94E\n",
       "5075731    Namangan   Uzbekistan   40.99N    72.43E\n",
       "1258244  Cabanatuan  Philippines   15.27N   120.83E\n",
       "410720      Armenia     Colombia    4.02N    76.34W"
      ]
     },
     "execution_count": 26,
     "metadata": {},
     "output_type": "execute_result"
    }
   ],
   "source": [
    "# Beispielauszug\n",
    "geo_df.sample(5)"
   ]
  },
  {
   "cell_type": "markdown",
   "id": "240873df-2555-4042-bf14-4cb86506801f",
   "metadata": {},
   "source": [
    "<br>\n",
    "\n",
    "## 2. Bereinigung & Transformation\n",
    "\n",
    "### 2.1. Zeilen ohne Temperaturwerte löschen\n",
    "\n",
    "364.130 Zeilen in `celsius_df` enthalten keine Temperaturwerte und werden gelöscht\n",
    "- Zeilen vorher: 8.599.212\n",
    "- Zeilen nacher: 8.235.082\n",
    "\n",
    "Im Anschluss sind alle Felder \"non-null\""
   ]
  },
  {
   "cell_type": "code",
   "execution_count": 27,
   "id": "c17947f9-91da-41b9-b40a-572e1a6030d7",
   "metadata": {},
   "outputs": [
    {
     "name": "stdout",
     "output_type": "stream",
     "text": [
      "        dt  AverageTemperature   City Latitude Longitude\n",
      "1743-11-01               6.326 Berlin   52.24N    13.14E\n",
      "1743-12-01                 NaN Berlin   52.24N    13.14E\n",
      "1744-01-01                 NaN Berlin   52.24N    13.14E\n",
      "1744-02-01                 NaN Berlin   52.24N    13.14E\n",
      "1744-03-01                 NaN Berlin   52.24N    13.14E\n",
      "1744-04-01               9.536 Berlin   52.24N    13.14E\n",
      "1744-05-01              12.579 Berlin   52.24N    13.14E\n",
      "1744-06-01              14.809 Berlin   52.24N    13.14E\n",
      "1744-07-01              17.275 Berlin   52.24N    13.14E\n",
      "1744-08-01                 NaN Berlin   52.24N    13.14E\n"
     ]
    }
   ],
   "source": [
    "# Temperaturwerte sind unvollständig / Beispiel Berlin nach Datum asc\n",
    "print(celsius_df[celsius_df['City'].isin(['Berlin'])].sort_values(by='dt', ascending=True).head(10).to_string(index=False))"
   ]
  },
  {
   "cell_type": "code",
   "execution_count": 28,
   "id": "b4c5dfb6-08df-4a30-a168-48a9c313b14d",
   "metadata": {},
   "outputs": [
    {
     "name": "stdout",
     "output_type": "stream",
     "text": [
      "        dt  AverageTemperature   City Latitude Longitude\n",
      "1743-11-01               6.326 Berlin   52.24N    13.14E\n",
      "1744-04-01               9.536 Berlin   52.24N    13.14E\n",
      "1744-05-01              12.579 Berlin   52.24N    13.14E\n",
      "1744-06-01              14.809 Berlin   52.24N    13.14E\n",
      "1744-07-01              17.275 Berlin   52.24N    13.14E\n",
      "1744-09-01              14.119 Berlin   52.24N    13.14E\n",
      "\n",
      "<class 'pandas.core.frame.DataFrame'>\n",
      "RangeIndex: 8235082 entries, 0 to 8235081\n",
      "Data columns (total 5 columns):\n",
      " #   Column              Non-Null Count    Dtype  \n",
      "---  ------              --------------    -----  \n",
      " 0   dt                  8235082 non-null  object \n",
      " 1   AverageTemperature  8235082 non-null  float32\n",
      " 2   City                8235082 non-null  string \n",
      " 3   Latitude            8235082 non-null  object \n",
      " 4   Longitude           8235082 non-null  object \n",
      "dtypes: float32(1), object(3), string(1)\n",
      "memory usage: 1.8 GB\n"
     ]
    }
   ],
   "source": [
    "# Zeilen ohne Temperaturwerte aus celsius_df entfernen und internen Index neu bilden (ohne Index-Sicherung)\n",
    "celsius_df = celsius_df.dropna(subset=['AverageTemperature']).reset_index(drop=True)\n",
    "\n",
    "# Fehlende Temperaturwerte entfernt / Beispiel Berlin nach Datum asc\n",
    "print(celsius_df[celsius_df['City'].isin(['Berlin'])].sort_values(by='dt', ascending=True).head(6).to_string(index=False))\n",
    "print('')\n",
    "\n",
    "# Zeilen mit Null Werten gelöscht / Speicherbelegung um etwa 4 % reduziert \n",
    "celsius_df.info(show_counts=True, memory_usage='deep')"
   ]
  },
  {
   "cell_type": "markdown",
   "id": "8b5a642f-acd6-4c2d-8ff2-6911fa0e8ad5",
   "metadata": {},
   "source": [
    "### 2.2. Datum-String konvertieren\n",
    "- Datum-String als Pandas `object` wird zu Pandas `datetime64[ns]` konvertiert\n",
    "- Benötigt etwa **86 % weniger** Speicher beim vorliegenden Datumsformat \"YYYY-MM-DD\""
   ]
  },
  {
   "cell_type": "code",
   "execution_count": 29,
   "id": "413539d0-4551-4867-a2cf-f5333687bcb5",
   "metadata": {},
   "outputs": [
    {
     "name": "stdout",
     "output_type": "stream",
     "text": [
      "Speicherbelegung object: 463 MB\n",
      "Speicherbelegung datetime64[ns]: 63 MB\n"
     ]
    }
   ],
   "source": [
    "# Speicherbelegung davor\n",
    "print(f'Speicherbelegung object: {int(round(celsius_df.dt.memory_usage(deep=True) / 1048576, 0))} MB')\n",
    "\n",
    "# Datumskonvertierung\n",
    "celsius_df['dt'] = pd.to_datetime(celsius_df['dt'])\n",
    "\n",
    "# Speicherbelegung danach\n",
    "print(f'Speicherbelegung datetime64[ns]: {int(round(celsius_df.dt.memory_usage(deep=True) / 1048576, 0))} MB')"
   ]
  },
  {
   "cell_type": "markdown",
   "id": "a1c4d792-9d22-40cb-9f7b-f4459f67e902",
   "metadata": {},
   "source": [
    "### 2.3. Geo-Koordinaten bereinigen und konvertieren\n",
    "- Redundanzen aus der Mehrfachzuordnung von Geo-Koordinaten werden entfernt: `.drop_duplicates()`\n",
    "- Koordinaten-Strings zu Float Konvertierung unter Verwendung des Moduls: *`lat_lon_parser.parse`*\n",
    "  - Float benötigt weniger Speicher als String\n",
    "  - Float wird zur Visualisierung von Geo-Koordinaten verwendet"
   ]
  },
  {
   "cell_type": "code",
   "execution_count": 30,
   "id": "743f0c87-0d94-48d1-b51e-c3dcfa881fa2",
   "metadata": {},
   "outputs": [
    {
     "name": "stdout",
     "output_type": "stream",
     "text": [
      "<class 'pandas.core.frame.DataFrame'>\n",
      "RangeIndex: 3510 entries, 0 to 3509\n",
      "Data columns (total 4 columns):\n",
      " #   Column     Non-Null Count  Dtype  \n",
      "---  ------     --------------  -----  \n",
      " 0   City       3510 non-null   string \n",
      " 1   Country    3510 non-null   string \n",
      " 2   Latitude   3510 non-null   float32\n",
      " 3   Longitude  3510 non-null   float32\n",
      "dtypes: float32(2), string(2)\n",
      "memory usage: 422.3 KB\n",
      "\n",
      "<class 'pandas.core.frame.DataFrame'>\n",
      "RangeIndex: 8235082 entries, 0 to 8235081\n",
      "Data columns (total 5 columns):\n",
      " #   Column              Non-Null Count    Dtype         \n",
      "---  ------              --------------    -----         \n",
      " 0   dt                  8235082 non-null  datetime64[ns]\n",
      " 1   AverageTemperature  8235082 non-null  float32       \n",
      " 2   City                8235082 non-null  string        \n",
      " 3   Latitude            8235082 non-null  float32       \n",
      " 4   Longitude           8235082 non-null  float32       \n",
      "dtypes: datetime64[ns](1), float32(3), string(1)\n",
      "memory usage: 612.0 MB\n"
     ]
    }
   ],
   "source": [
    "\"\"\" Dauer etwa 50 Sekunden \"\"\"\n",
    "\n",
    "# Duplikate aus geo_df entfernen und Index neu bilden (ohne Index-Sicherung)\n",
    "geo_df = geo_df.drop_duplicates().reset_index(drop=True)\n",
    "\n",
    "# Geo-Spalten in geo_df konvertieren, mit parse-Funktion aus lat_lon_parser\n",
    "geo_df['Latitude'] = geo_df['Latitude'].apply(parse).astype('float32')\n",
    "geo_df['Longitude'] = geo_df['Longitude'].apply(parse).astype('float32')\n",
    "\n",
    "# Geo-Spalten in celsius_df konvertieren, mit parse-Funktion aus lat_lon_parser --> ca. 50 Sekunden\n",
    "celsius_df['Latitude'] = celsius_df['Latitude'].apply(parse).astype('float32')\n",
    "celsius_df['Longitude'] = celsius_df['Longitude'].apply(parse).astype('float32')\n",
    "\n",
    "# DataFrames Info\n",
    "geo_df.info(memory_usage='deep')\n",
    "print('')\n",
    "celsius_df.info(show_counts=True, memory_usage='deep')"
   ]
  },
  {
   "cell_type": "markdown",
   "id": "fa438300-54cc-421d-a6bb-3a2a22da1a15",
   "metadata": {},
   "source": [
    "### 2.4. City & Geo-Koordinaten als Schlüssel\n",
    "- City kann bis zu 3 verschiedene Geo-Koordinaten haben\n",
    "  - Es handelt sich hierbei um unterschiedliche Orte mit dem selben Namen\n",
    "- Eine Geo-Koordinate kann verschiedene City-Zuordnungen haben\n",
    "  - Die Koordinate liegt relativ zentral zwischen den gelisteten Städten,\\\n",
    "    stellt aber nicht exakt den geografischen Mittelpunkt dar\n",
    "  - Die Genauigkeit ist für dieses Vorhaben ausreichend"
   ]
  },
  {
   "cell_type": "code",
   "execution_count": 31,
   "id": "1c05f986-7f0e-4739-9ed0-82c14b220124",
   "metadata": {},
   "outputs": [
    {
     "name": "stdout",
     "output_type": "stream",
     "text": [
      "       City       Country  Latitude  Longitude\n",
      "Springfield United States 37.779999 -93.559998\n",
      "Springfield United States 39.380001 -89.480003\n",
      "Springfield United States 42.590000 -72.000000\n"
     ]
    }
   ],
   "source": [
    "# City kann bis zu 3 verschiedene Geo-Koordinaten haben / Beispiel Springfield\n",
    "print(geo_df[geo_df['City'].isin(['Springfield'])].to_string(index=False))"
   ]
  },
  {
   "cell_type": "code",
   "execution_count": 32,
   "id": "5ff58aae-859c-459c-9a79-83bde8d8f3a9",
   "metadata": {},
   "outputs": [
    {
     "name": "stdout",
     "output_type": "stream",
     "text": [
      "     City Country  Latitude  Longitude\n",
      "   Gondal   India 21.700001  70.099998\n",
      " Jamnagar   India 21.700001  70.099998\n",
      "   Jetpur   India 21.700001  70.099998\n",
      " Junagadh   India 21.700001  70.099998\n",
      "Porbandar   India 21.700001  70.099998\n",
      "   Rajkot   India 21.700001  70.099998\n",
      "  Veraval   India 21.700001  70.099998\n"
     ]
    }
   ],
   "source": [
    "# Eine Geo-Koordinate kann verschiedene City-Zuordnungen haben / Beispiel Indien, West Gujarat\n",
    "print(geo_df\n",
    "      .query('Latitude == 21.700001 and Longitude == 70.099998')\n",
    "      .to_string(index=False)\n",
    ")"
   ]
  },
  {
   "cell_type": "markdown",
   "id": "8a8fe151-d4ae-4178-b541-546617f0e55d",
   "metadata": {},
   "source": [
    "**City und Koordinaten müssen in Kombination als Schlüsselspalte dienen, um celsius_df und geo_df in Relation zu bringen.**\n",
    "\n",
    "#### Open Location Code (Plus Codes)\n",
    "Der Algorithmus \"Open Location Code\" von Google wird verwendet, um Geo-Koordinaten in einen\\\n",
    "eindeutigen, kurzen alphanumerischen String (Plus Code) umzuwandeln (z.B. 87G8Q72V+G6).\n",
    "- Plus Codes sind weltweit eindeutig\n",
    "- Jede Koordinate ergibt einen eindeutigen, kompakten Hash als String\n",
    "- Genauigkeit lässt sich mit dem Argument codeLength steuern\n",
    "  - 10 Zeichen ≈ 13,5 × 13,5 Meter (Standard)\n",
    "  - 8 Zeichen ≈ 135 × 135 Meter (ausreichend)"
   ]
  },
  {
   "cell_type": "code",
   "execution_count": 33,
   "id": "3ac13419-f35b-4f67-abb8-0f22cff70b16",
   "metadata": {},
   "outputs": [
    {
     "name": "stdout",
     "output_type": "stream",
     "text": [
      "10 Zeichen: 87J94C25+HV | 42.10143749999999 | -72.5903125\n",
      " 8 Zeichen: 87J94C25+   | 42.10125          | -72.59125\n"
     ]
    }
   ],
   "source": [
    "# Beispiel\n",
    "plus_encode = olc.encode(42.101391, -72.590279, codeLength=10)\n",
    "plus_decode = olc.decode(plus_encode)\n",
    "print(f'10 Zeichen: {plus_encode} | {plus_decode.latitudeCenter} | {plus_decode.longitudeCenter}')\n",
    "plus_encode = olc.encode(42.101391, -72.590279, codeLength=8)\n",
    "plus_decode = olc.decode(plus_encode)\n",
    "print(f' 8 Zeichen: {plus_encode}{' '*3}| {plus_decode.latitudeCenter}{' '*10}| {plus_decode.longitudeCenter}')"
   ]
  },
  {
   "cell_type": "code",
   "execution_count": 34,
   "id": "b3c3429d-d90f-4cb8-ab02-8eae47f12596",
   "metadata": {},
   "outputs": [],
   "source": [
    "\"\"\" Dauer etwa 90 Sekunden \"\"\"\n",
    "\n",
    "def gen_plus_code(df, lat_col='Latitude', lon_col='Longitude', code_length=8, new_col='plus_code'):\n",
    "    \"\"\" Fügt einem DataFrame eine neue Spalte mit Plus Codes (Open Location Code) hinzu,\n",
    "        basierend auf Latitude und Longitude Spalten.\n",
    "        Aufruf: df = gen_plus_code(df) \"\"\"\n",
    "    \n",
    "    df[new_col] = df.apply(\n",
    "        lambda row: olc.encode(row[lat_col], row[lon_col], codeLength=code_length), axis=1\n",
    "    )\n",
    "    return df\n",
    "\n",
    "# Plus Code in celsius_df erzeugen --> ca. 90 Sekunden\n",
    "celsius_df = gen_plus_code(celsius_df)\n",
    "\n",
    "# Plus Code in geo_df erzeugen\n",
    "geo_df = gen_plus_code(geo_df)\n",
    "\n",
    "# Geo-Koordinaten aus celsius_df entfernen\n",
    "celsius_df = celsius_df.drop(columns=['Latitude', 'Longitude'])\n"
   ]
  },
  {
   "attachments": {},
   "cell_type": "markdown",
   "id": "59f18589-6a3f-4523-81ef-8b314186c989",
   "metadata": {},
   "source": [
    "#### Kombinierter Schlüssel\n",
    "Weil City und Koordinaten kombiniert werden müssen, wurde folgender Ansatz gewählt:\n",
    "\n",
    "##### Zwei separate Schlüsselspalten\n",
    "- Klar lesbar, entspricht SQL-Mehrspalten-Keys\n",
    "- Pandas ist für diesen Fall optimiert\n",
    "- Kein zusätzlicher Speicher für eine Hilfsspalte\n",
    "- Kein zusätzlicher Schritt zum zusammenführen der Spalten\n",
    "\n",
    "**Die Kombination aus `City` und `plus_code` ergibt jetzt einen eindeutigen Schlüssel, der zum Mergen verwendet werden kann.**"
   ]
  },
  {
   "cell_type": "code",
   "execution_count": 35,
   "id": "27afd7a7-ef3c-46d0-81f0-78289a98740f",
   "metadata": {},
   "outputs": [
    {
     "name": "stdout",
     "output_type": "stream",
     "text": [
      "[-- celsius_df --]\n",
      "       City plus_code\n",
      "Springfield 8698QCHR+\n",
      "Springfield 86FG9GJ9+\n",
      "Springfield 87JCH2R2+\n",
      "     Gondal 7JHGP32X+\n",
      "   Jamnagar 7JHGP32X+\n",
      "     Jetpur 7JHGP32X+\n",
      "   Junagadh 7JHGP32X+\n",
      "  Porbandar 7JHGP32X+\n",
      "     Rajkot 7JHGP32X+\n",
      "    Veraval 7JHGP32X+\n",
      "\n",
      "[-- geo_df --]\n",
      "       City plus_code  Latitude  Longitude       Country\n",
      "Springfield 8698QCHR+ 37.779999 -93.559998 United States\n",
      "Springfield 86FG9GJ9+ 39.380001 -89.480003 United States\n",
      "Springfield 87JCH2R2+ 42.590000 -72.000000 United States\n",
      "     Gondal 7JHGP32X+ 21.700001  70.099998         India\n",
      "   Jamnagar 7JHGP32X+ 21.700001  70.099998         India\n",
      "     Jetpur 7JHGP32X+ 21.700001  70.099998         India\n",
      "   Junagadh 7JHGP32X+ 21.700001  70.099998         India\n",
      "  Porbandar 7JHGP32X+ 21.700001  70.099998         India\n",
      "     Rajkot 7JHGP32X+ 21.700001  70.099998         India\n",
      "    Veraval 7JHGP32X+ 21.700001  70.099998         India\n"
     ]
    }
   ],
   "source": [
    "# [df1] City mit verschiedenen Geo-Koordinaten und plus_code / Beispiel Springfield\n",
    "# [df2] Geo-Koordinate mit verschiedenen City-Zuordnungen und plus_code / Beispiel Indien, West Gujarat\n",
    "\n",
    "print('[-- celsius_df --]')\n",
    "df1 = celsius_df[['City', 'plus_code']][celsius_df['City'].isin(['Springfield'])]\n",
    "df2 = celsius_df[celsius_df['plus_code'] == '7JHGP32X+'][['City', 'plus_code']].drop_duplicates()\n",
    "print(pd.concat([df1, df2]).drop_duplicates().to_string(index=False))\n",
    "print('')\n",
    "print('[-- geo_df --]')\n",
    "df1 = geo_df[['City', 'plus_code', 'Latitude', 'Longitude', 'Country']][geo_df['City'].isin(['Springfield'])]\n",
    "df2 = geo_df[['City', 'plus_code', 'Latitude', 'Longitude', 'Country']].query('Latitude == 21.700001 and Longitude == 70.099998')\n",
    "print(pd.concat([df1, df2]).drop_duplicates().to_string(index=False))"
   ]
  },
  {
   "cell_type": "markdown",
   "id": "c823da86-7902-498d-8ec6-4e0a6ecb581e",
   "metadata": {},
   "source": [
    "<br>\n",
    "\n",
    "## 3. CSV Export\n",
    "\n",
    "Beide DataFrames werden im aufgearbeiteten Zustand als CSVs gespeichert.\n",
    "- clim_change_celsius_df.csv\n",
    "- clim_change_geo_df.csv"
   ]
  },
  {
   "cell_type": "code",
   "execution_count": 36,
   "id": "a314a05d-ef91-450a-a8e2-02698c2affb9",
   "metadata": {},
   "outputs": [],
   "source": [
    "\"\"\" Dauer etwa 23 Sekunden \"\"\"\n",
    "\n",
    "# Dataframes als CSV speichern --> ca. 23 Sekunden\n",
    "celsius_df.to_csv('clim_change_celsius_df.csv', index=False)\n",
    "geo_df.to_csv('clim_change_geo_df.csv', index=False)"
   ]
  },
  {
   "cell_type": "markdown",
   "id": "ad13219e-2879-442a-ade6-d231e18fa1a4",
   "metadata": {},
   "source": [
    "<br>\n",
    "\n",
    "## 4. Speichervergleich\n",
    "Überarbeitete DataFrames im Vergleich zum DataFrame im Rohzustand mit relevanten Spalten\n",
    "\n",
    "**Nach der Transformation konnte die Speichernutzung ingesamt um über 56 % reduziert werden**\n",
    "\n",
    "- main_df 2.3 GB (Rohzustand)\n",
    "- celsius_df 1004.6 MB (überarbeitet)\n",
    "- geo_df 621.1 KB (überarbeitet)\n",
    "\n",
    "Im Vergleich etwa **2.3 GB --> 1.0 GB**"
   ]
  },
  {
   "cell_type": "code",
   "execution_count": 37,
   "id": "696bf308-c428-4b5c-9d61-b6ae48b8ff82",
   "metadata": {},
   "outputs": [
    {
     "name": "stdout",
     "output_type": "stream",
     "text": [
      "<class 'pandas.core.frame.DataFrame'>\n",
      "RangeIndex: 8599212 entries, 0 to 8599211\n",
      "Data columns (total 6 columns):\n",
      " #   Column              Dtype  \n",
      "---  ------              -----  \n",
      " 0   dt                  object \n",
      " 1   AverageTemperature  float64\n",
      " 2   City                object \n",
      " 3   Country             object \n",
      " 4   Latitude            object \n",
      " 5   Longitude           object \n",
      "dtypes: float64(1), object(5)\n",
      "memory usage: 2.3 GB\n",
      "\n",
      "<class 'pandas.core.frame.DataFrame'>\n",
      "RangeIndex: 8235082 entries, 0 to 8235081\n",
      "Data columns (total 4 columns):\n",
      " #   Column              Dtype         \n",
      "---  ------              -----         \n",
      " 0   dt                  datetime64[ns]\n",
      " 1   AverageTemperature  float32       \n",
      " 2   City                string        \n",
      " 3   plus_code           object        \n",
      "dtypes: datetime64[ns](1), float32(1), object(1), string(1)\n",
      "memory usage: 1004.6 MB\n",
      "\n",
      "<class 'pandas.core.frame.DataFrame'>\n",
      "RangeIndex: 3510 entries, 0 to 3509\n",
      "Data columns (total 5 columns):\n",
      " #   Column     Non-Null Count  Dtype  \n",
      "---  ------     --------------  -----  \n",
      " 0   City       3510 non-null   string \n",
      " 1   Country    3510 non-null   string \n",
      " 2   Latitude   3510 non-null   float32\n",
      " 3   Longitude  3510 non-null   float32\n",
      " 4   plus_code  3510 non-null   object \n",
      "dtypes: float32(2), object(1), string(2)\n",
      "memory usage: 621.1 KB\n"
     ]
    }
   ],
   "source": [
    "\"\"\" Dauer etwa 19 Sekunden \"\"\"\n",
    "\n",
    "# Einlesen relevanter Spalten aus der Haupt-Datenquelle --> ca. 7 Sekunden\n",
    "main_df = pd.read_csv(\n",
    "    'GlobalLandTemperaturesByCity.csv',\n",
    "    usecols=['dt', 'City', 'Country', 'AverageTemperature', 'Latitude', 'Longitude']\n",
    ")\n",
    "\n",
    "# DataFrames Speichernutzung im Vergleich --> ca. 12 Sekunden\n",
    "main_df.info(memory_usage='deep')\n",
    "print('')\n",
    "celsius_df.info(memory_usage='deep')\n",
    "print('')\n",
    "geo_df.info(memory_usage='deep')"
   ]
  },
  {
   "cell_type": "code",
   "execution_count": null,
   "id": "c0452057-f6e9-4b01-8125-da577826e049",
   "metadata": {},
   "outputs": [],
   "source": []
  }
 ],
 "metadata": {
  "kernelspec": {
   "display_name": "Python 3 (ipykernel)",
   "language": "python",
   "name": "python3"
  },
  "language_info": {
   "codemirror_mode": {
    "name": "ipython",
    "version": 3
   },
   "file_extension": ".py",
   "mimetype": "text/x-python",
   "name": "python",
   "nbconvert_exporter": "python",
   "pygments_lexer": "ipython3",
   "version": "3.12.9"
  }
 },
 "nbformat": 4,
 "nbformat_minor": 5
}
