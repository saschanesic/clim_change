{
 "cells": [
  {
   "cell_type": "markdown",
   "id": "3e5f6ba1-974c-41b0-a6a2-eaceacd05944",
   "metadata": {},
   "source": [
    "## Globale Temperaturänderungen und Gefahren\n",
    "\n",
    "### Teil 4\n",
    "- Kumulative Aggregation der Temperaturdaten\n",
    "\n",
    "---"
   ]
  },
  {
   "cell_type": "code",
   "execution_count": 33,
   "id": "f254ca7e-9248-4956-b9c0-e1fd96cde269",
   "metadata": {},
   "outputs": [],
   "source": [
    "import numpy as np\n",
    "import pandas as pd\n",
    "from pandas.tseries.offsets import YearEnd\n",
    "from pandas.api.types import CategoricalDtype\n",
    "\n",
    "import dash\n",
    "from dash import Dash, dcc, html, Input, Output, callback, callback_context\n",
    "\n",
    "import plotly.figure_factory as ff\n"
   ]
  },
  {
   "cell_type": "markdown",
   "id": "220dbe35-3fc0-4fdb-b816-1d30376bd604",
   "metadata": {},
   "source": [
    "## 1. CSV einlesen\n",
    "Zuvor gespeicherte CSV wird ins DataFrame geladen:\n",
    "- clim_change_celsius_df.csv `celsius_df`"
   ]
  },
  {
   "cell_type": "code",
   "execution_count": 34,
   "id": "9754a101-f370-48dc-bdef-6471f6b5b36a",
   "metadata": {},
   "outputs": [
    {
     "name": "stdout",
     "output_type": "stream",
     "text": [
      "<class 'pandas.core.frame.DataFrame'>\n",
      "RangeIndex: 8235082 entries, 0 to 8235081\n",
      "Data columns (total 4 columns):\n",
      " #   Column              Non-Null Count    Dtype         \n",
      "---  ------              --------------    -----         \n",
      " 0   dt                  8235082 non-null  datetime64[ns]\n",
      " 1   AverageTemperature  8235082 non-null  float32       \n",
      " 2   City                8235082 non-null  string        \n",
      " 3   plus_code           8235082 non-null  string        \n",
      "dtypes: datetime64[ns](1), float32(1), string(2)\n",
      "memory usage: 1004.6 MB\n"
     ]
    }
   ],
   "source": [
    "\"\"\" Dauer etwa 18 Sekunden \"\"\"\n",
    "\n",
    "# Einlesen des Temperatur-DataFrames --> ca. 17 Sekunden\n",
    "celsius_df = pd.read_csv('clim_change_celsius_df.csv', parse_dates=['dt'],\n",
    "                 usecols=['dt', 'AverageTemperature', 'City', 'plus_code'],\n",
    "                 dtype={'AverageTemperature': 'float32',\n",
    "                        'City': 'string',\n",
    "                        'plus_code': 'string'\n",
    "                       }\n",
    "                )\n",
    "celsius_df.info(show_counts=True, memory_usage='deep')\n"
   ]
  },
  {
   "cell_type": "markdown",
   "id": "d929bd72-dda3-4722-8144-9dcc0e536bcc",
   "metadata": {},
   "source": [
    "## 2. Kumulierte Jahresaggregation\n",
    "- Temperaturen werden auf Jahre aggregiert (min/max/avg)\n",
    "  - `c_avg` Jahresdurschnitt\n",
    "- Aggregationen mit Kumulation aller vorangegangenen Jahre\n",
    "  - `c_cum_avg` Kumulativer Durschnitt\n",
    "  - `c_cum_min` Kumulatives Minimum\n",
    "  - `c_cum_max` Kumulatives Maximum\n",
    "  - `c_cum_diff` Delta aus Kum. Max. & Kum. Min.\n",
    "\n",
    "---\n",
    "### 2.1. GroupBy-Objekt\n",
    "Ein GroupBy-Objekt ist eine Zwischenstruktur in Pandas, die entsteht\\\n",
    "wenn ein DataFrame mit `groupby()` nach bestimmten Schlüsseln gruppiert wird.\n",
    "- Split: Daten werden angegebenen Kriterien in Gruppen aufgeteilt\n",
    "- Apply: Auf jede Gruppe kann eine Funktion angewendet werden (z.B. Aggregation)\n",
    "- Combine: Ergebnisse werden wieder zu einem neuen Objekt zusammengeführt\n",
    "- Man kann über die Gruppen iterieren und erhält jeweils den Gruppenschlüssel und die zugehörigen Daten\n",
    "````python\n",
    "grouped_year = celsius_df.groupby(['City', 'plus_code'])\n",
    "````\n",
    "\n",
    "### 2.2. Transform-Methode\n",
    "Mit `transform()` wird eine Funktion auf jede Gruppe angewendet und ein Ergebnis mit Länge der Originalgruppe zurückgegeben.\\\n",
    "Im Gegensatz zu agg() behält es die ursprüngliche DataFrame-Struktur bei.\n",
    "\n",
    "### 2.3. expanding()-Funktion\n",
    "`x.expanding()` erzeugt ein sich erweiterndes Fenster:\n",
    "- Startet mit der ersten Beobachtung\n",
    "- Vergrößert sich schrittweise um je eine Beobachtung\n",
    "- Beinhaltet immer alle vorherigen Werte + aktuellen Wert\n",
    "- Entspricht SQL Fensterfunkion: OVER (PARTITION BY ...)\n",
    "\n",
    "````python\n",
    "grouped_year['c_avg'].transform(lambda x: x.expanding().mean())\n",
    "````\n",
    "\n",
    "---\n",
    "### 2.4. gruppieren & aggregieren"
   ]
  },
  {
   "cell_type": "code",
   "execution_count": 35,
   "id": "670da726-8ca8-4052-8780-3462c5440e12",
   "metadata": {},
   "outputs": [],
   "source": [
    "celsius_year_df = (\n",
    "    celsius_df\n",
    "    .assign(year=lambda x: x['dt'].dt.year)\n",
    "    .sort_values(['City', 'plus_code', 'dt'])\n",
    "    .groupby(['City', 'plus_code', 'year'], as_index=False, observed=True)\n",
    "    .agg(\n",
    "        c_avg=('AverageTemperature', 'mean'),\n",
    "        c_min=('AverageTemperature', 'min'),\n",
    "        c_max=('AverageTemperature', 'max')\n",
    "    )\n",
    "    .sort_values(['City', 'year'])\n",
    ")\n"
   ]
  },
  {
   "cell_type": "code",
   "execution_count": 36,
   "id": "2e6cbb3b-0b02-4577-93cc-0cbb895fbf87",
   "metadata": {},
   "outputs": [
    {
     "name": "stdout",
     "output_type": "stream",
     "text": [
      "<class 'pandas.core.frame.DataFrame'>\n",
      "Index: 693249 entries, 0 to 693248\n",
      "Data columns (total 10 columns):\n",
      " #   Column      Non-Null Count   Dtype  \n",
      "---  ------      --------------   -----  \n",
      " 0   City        693249 non-null  string \n",
      " 1   plus_code   693249 non-null  string \n",
      " 2   year        693249 non-null  int32  \n",
      " 3   c_avg       693249 non-null  float32\n",
      " 4   c_min       693249 non-null  float32\n",
      " 5   c_max       693249 non-null  float32\n",
      " 6   c_cum_avg   693249 non-null  float32\n",
      " 7   c_cum_min   693249 non-null  float32\n",
      " 8   c_cum_max   693249 non-null  float32\n",
      " 9   c_cum_diff  693249 non-null  float32\n",
      "dtypes: float32(7), int32(1), string(2)\n",
      "memory usage: 37.0 MB\n",
      "\n",
      "   City plus_code  year     c_avg     c_min     c_max  c_cum_avg  c_cum_min  c_cum_max  c_cum_diff\n",
      "Ternate 6QG9RQ29+  1880 25.926332 25.201000 26.612000  25.926332     25.201     26.612    1.410999\n",
      "Ternate 6QG9RQ29+  1881 25.827375 25.295000 26.173000  25.876854     25.201     26.612    1.410999\n",
      "Ternate 6QG9RQ29+  1882 26.159500 25.650000 26.920000  25.971069     25.201     26.920    1.719000\n",
      "Ternate 6QG9RQ29+  1883 26.111834 25.433001 26.674999  26.006260     25.201     26.920    1.719000\n",
      "Ternate 6QG9RQ29+  1884 25.539415 24.961000 26.047001  25.912891     24.961     26.920    1.959000\n",
      "Ternate 6QG9RQ29+  1885 25.871000 25.549999 26.273001  25.905910     24.961     26.920    1.959000\n",
      "Ternate 6QG9RQ29+  1886 25.801001 24.899000 26.438999  25.890923     24.899     26.920    2.021000\n",
      "Ternate 6QG9RQ29+  1887 25.524084 24.698000 26.115000  25.845068     24.698     26.920    2.222000\n",
      "Ternate 6QG9RQ29+  1888 26.021833 24.754999 26.635000  25.864708     24.698     26.920    2.222000\n",
      "Ternate 6QG9RQ29+  1889 26.243082 25.539000 27.112000  25.902546     24.698     27.112    2.414000\n"
     ]
    }
   ],
   "source": [
    "# Kumulierte Aggregation für Jahre\n",
    "grouped_year = celsius_year_df.groupby(['City', 'plus_code'])\n",
    "celsius_year_df['c_cum_avg'] = grouped_year['c_avg'].transform(lambda x: x.expanding().mean()).astype('float32')\n",
    "celsius_year_df['c_cum_min'] = grouped_year['c_min'].transform(lambda x: x.expanding().min()).astype('float32')\n",
    "celsius_year_df['c_cum_max'] = grouped_year['c_max'].transform(lambda x: x.expanding().max()).astype('float32')\n",
    "del grouped_year\n",
    "\n",
    "# Temperaturdifferenz (c_cum_max - c_cum_min)\n",
    "celsius_year_df['c_cum_diff'] = celsius_year_df['c_cum_max'] - celsius_year_df['c_cum_min']\n",
    "\n",
    "# Ausgabe\n",
    "celsius_year_df.info()\n",
    "print('')\n",
    "print(celsius_year_df[celsius_year_df.City.isin(['Ternate'])].head(10).to_string(index=False))"
   ]
  },
  {
   "cell_type": "markdown",
   "id": "8f5aa0f5-1626-422d-9408-430edae6eea6",
   "metadata": {},
   "source": [
    "### 2.5. CSV Export\n",
    "DataFrame celsius_year_df wird als CSV gespeichert.\n",
    "- clim_change_celsius_year_df.csv"
   ]
  },
  {
   "cell_type": "code",
   "execution_count": 37,
   "id": "3570e6cc-0843-49e3-bdcd-b4e12d842d70",
   "metadata": {},
   "outputs": [],
   "source": [
    "# Dataframe als CSV speichern\n",
    "celsius_year_df.to_csv('clim_change_celsius_year_df.csv', index=False)\n",
    "del celsius_year_df"
   ]
  },
  {
   "cell_type": "markdown",
   "id": "e439f404-e0e3-40a6-988f-dd4807cb28d1",
   "metadata": {},
   "source": [
    "## 3. Nach Jahreszeiten kumulieren\n",
    "- Temperaturen werden auf Jahreszeiten aggregiert (min/max/avg)\n",
    "  - `c_avg` Jahreszeitendurschnitt\n",
    "- Aggregationen mit Kumulation aller vorangegangenen Jahre\n",
    "  - `c_cum_avg` Kumulativer Durschnitt\n",
    "  - `c_cum_min` Kumulatives Minimum\n",
    "  - `c_cum_max` Kumulatives Maximum\n",
    "  - `c_cum_diff` Delta aus Kum.-Max. & Kum.-Min.\n",
    "\n",
    "---\n",
    "Meteorologisch werden Jahreszeiten aufgeteilt nach:\n",
    "- Frühling (März, April, Mai)\n",
    "- Sommer (Juni, Juli, August)\n",
    "- Herbst (September, Oktober, November)\n",
    "- Winter (Dezember, Januar, Februar)\n",
    "\n",
    "Diese Einteilung basiert auf einem internationalen Abkommen und dient der Vereinfachung der Erfassung und Verarbeitung von Wetterdaten.\n",
    "\n",
    "---"
   ]
  },
  {
   "cell_type": "markdown",
   "id": "39b7666f-d720-4406-9dc3-cac30df261f5",
   "metadata": {
    "jp-MarkdownHeadingCollapsed": true
   },
   "source": [
    "### 3.1. np.where()"
   ]
  },
  {
   "cell_type": "code",
   "execution_count": 38,
   "id": "f0f22d23-16fc-4e04-8200-531828655e0f",
   "metadata": {},
   "outputs": [],
   "source": [
    "# # ca. 71 Sekunden\n",
    "# def assign_season(row):\n",
    "#     if 3 <= row.month <= 5:\n",
    "#         return 'spring'\n",
    "#     elif 6 <= row.month <= 8:\n",
    "#         return 'summer'\n",
    "#     elif 9 <= row.month <= 11:\n",
    "#         return 'autumn'\n",
    "#     else:\n",
    "#         return 'winter'\n",
    "\n",
    "# celsius_df = (\n",
    "#     celsius_df\n",
    "#     .assign(\n",
    "#         month=lambda x: x['dt'].dt.month,\n",
    "#         season_year=lambda x: np.where(\n",
    "#             x['month'] == 12,\n",
    "#             x['dt'].dt.year + 1,\n",
    "#             x['dt'].dt.year\n",
    "#         ),\n",
    "#         season=lambda x: x.apply(assign_season, axis=1)\n",
    "#     )\n",
    "# )\n",
    "\n",
    "# import time\n",
    "# start = time.perf_counter()\n",
    "# end = time.perf_counter()\n",
    "# print(f\"Ausführungszeit: {end - start:.3f} Sekunden\")"
   ]
  },
  {
   "cell_type": "markdown",
   "id": "6d2e8be8-7394-49cd-aa51-291e8977a226",
   "metadata": {},
   "source": [
    "### 3.2. pd.offsets.YearEnd\n",
    "Verwendung von `pd.offsets.YearEnd` für Winter-Jahreszuordnung\n",
    "````python\n",
    "from pandas.tseries.offsets import YearEnd\n",
    "````\n",
    "\n",
    "Vorteile der YearEnd()-Methode gegenüber np.where()\n",
    "- **6x schneller als np.where() bei den hier vorhandenen 8.2M Zeilen**\n",
    "- Robust gegenüber Zeitzonen und ungewöhnlichen Datumsformaten\n",
    "- Nutzt interne C-optimierte Pandas-Routinen\n",
    "- Vermeidet Konvertierung zwischen Pandas/NumPy-Datentypen\n",
    "- **~15% geringere Speicherverwendung bei großen Datenmengen**\n",
    "- Arbeitet direkt auf Pandas-DateTime-Objekten\n",
    "- Keine temporären Arrays wie bei np.where()\n",
    "\n",
    "---\n",
    "### 3.3. pd.Categorical\n",
    "`pd.Categorical` ist ein Pandas Datentyp für Spalten mit einer festen Anzahl möglicher Werte (z.B. Jahreszeiten).\n",
    "Statt jeden Wert als String zu speichern, werden die Werte intern als Integer-Codes auf eine Liste der Kategorien gemappt.\n",
    "````python\n",
    "from pandas.api.types import CategoricalDtype\n",
    "````\n",
    "\n",
    "**Weniger Speicherverbrauch** bei großen Datenmengen mit sich wiederholenden Werten (z.B. Millionen Zeilen, aber nur 4 Jahreszeiten).\\\n",
    "**Schnellere Berechnungen** von Gruppierungen, Sortierungen und Aggregationen sind mit kategorischen Daten deutlich schneller.\\\n",
    "Es können nur Werte verwendet werden, die in den Kategorien definiert sind. Falsche Werte führen zu Fehlern.\\\n",
    "Mit ordered=True kann eine logische Reihenfolge der Kategorien festgelegt werden (z.B. für Zeitreihenvergleiche).\n",
    "- Das Argument `categories` legt explizit fest, welche Werte als gültige Kategorien in welcher Reihenfolge zulässig sind\n",
    "  - Andere Werte werden als NaN behandelt\n",
    "  - `ordered=True` bestimmt die Reihenfolge in categories\n",
    "\n",
    "---"
   ]
  },
  {
   "cell_type": "code",
   "execution_count": 39,
   "id": "ecf2a53a-6248-4cd1-9fdc-b0328307dcbe",
   "metadata": {},
   "outputs": [
    {
     "name": "stdout",
     "output_type": "stream",
     "text": [
      "<class 'pandas.core.frame.DataFrame'>\n",
      "Index: 8235082 entries, 8 to 8235072\n",
      "Data columns (total 6 columns):\n",
      " #   Column       Dtype         \n",
      "---  ------       -----         \n",
      " 0   City         string        \n",
      " 1   plus_code    string        \n",
      " 2   dt           datetime64[ns]\n",
      " 3   season       category      \n",
      " 4   c_avg        float32       \n",
      " 5   season_year  int64         \n",
      "dtypes: category(1), datetime64[ns](1), float32(1), int64(1), string(2)\n",
      "memory usage: 353.4 MB\n"
     ]
    }
   ],
   "source": [
    "\"\"\" Dauer etwa 19 Sekunden \"\"\"\n",
    "\n",
    "# Jahreszeiten-Bereiche definieren\n",
    "conditions = [\n",
    "    celsius_df['dt'].dt.month.between(3, 5),\n",
    "    celsius_df['dt'].dt.month.between(6, 8),\n",
    "    celsius_df['dt'].dt.month.between(9, 11)\n",
    "]\n",
    "\n",
    "# Jahreszeiten zuordnen mit pd.Categorical und expliziter Reihenfolge\n",
    "celsius_df['season'] = pd.Categorical(\n",
    "    values=np.select(conditions, ['spring', 'summer', 'autumn'], default='winter'),\n",
    "    categories=['winter', 'spring', 'summer', 'autumn'],\n",
    "    ordered=True\n",
    ")\n",
    "\n",
    "# celsius_df gruppieren & aggregieren nach celsius_season_df --> ca. 7 Sekunden\n",
    "celsius_season_df = (\n",
    "    celsius_df\n",
    "    .sort_values(['City', 'plus_code', 'dt'])\n",
    "    .groupby(['City', 'plus_code', 'dt', 'season'], as_index=False, observed=True)\n",
    "    .agg(c_avg=('AverageTemperature', 'mean'))\n",
    "    .sort_values(['City', 'season'])\n",
    ")\n",
    "del celsius_df\n",
    "\n",
    "# Winter-Jahreszuordnung --> ca. 10 Sekunden\n",
    "celsius_season_df['season_year'] = (\n",
    "    celsius_season_df['dt']\n",
    "    .apply(lambda d: (d + YearEnd(n=1)).year if d.month == 12 else d.year)\n",
    ")\n",
    "\n",
    "# Ausgabe\n",
    "celsius_season_df.info()"
   ]
  },
  {
   "cell_type": "markdown",
   "id": "d96b9f96-e4f9-4670-9398-9292c5dc8549",
   "metadata": {},
   "source": [
    "### 3.4. gruppieren & aggregieren"
   ]
  },
  {
   "cell_type": "code",
   "execution_count": 40,
   "id": "252173cb-6a92-4337-88bf-2e8893075bc0",
   "metadata": {},
   "outputs": [
    {
     "name": "stdout",
     "output_type": "stream",
     "text": [
      "<class 'pandas.core.frame.DataFrame'>\n",
      "Index: 2759692 entries, 1 to 2759688\n",
      "Data columns (total 9 columns):\n",
      " #   Column       Dtype   \n",
      "---  ------       -----   \n",
      " 0   City         string  \n",
      " 1   plus_code    string  \n",
      " 2   season_year  int64   \n",
      " 3   season       category\n",
      " 4   c_avg        float32 \n",
      " 5   c_cum_avg    float32 \n",
      " 6   c_cum_min    float32 \n",
      " 7   c_cum_max    float32 \n",
      " 8   c_cum_diff   float32 \n",
      "dtypes: category(1), float32(5), int64(1), string(2)\n",
      "memory usage: 139.5 MB\n",
      "\n",
      "   City plus_code  season_year season     c_avg  c_cum_avg  c_cum_min  c_cum_max  c_cum_diff\n",
      "Ternate 6QG9RQ29+         1880 winter 25.415001  25.415001  25.415001  25.415001    0.000000\n",
      "Ternate 6QG9RQ29+         1881 winter 25.535999  25.475500  25.415001  25.535999    0.120998\n",
      "Ternate 6QG9RQ29+         1882 winter 26.384333  25.778444  25.415001  26.384333    0.969332\n",
      "Ternate 6QG9RQ29+         1883 winter 25.610666  25.736500  25.415001  26.384333    0.969332\n",
      "Ternate 6QG9RQ29+         1884 winter 25.418665  25.672934  25.415001  26.384333    0.969332\n",
      "Ternate 6QG9RQ29+         1885 winter 25.733000  25.682943  25.415001  26.384333    0.969332\n",
      "Ternate 6QG9RQ29+         1886 winter 25.281000  25.625523  25.281000  26.384333    1.103333\n",
      "Ternate 6QG9RQ29+         1887 winter 25.316000  25.586834  25.281000  26.384333    1.103333\n",
      "Ternate 6QG9RQ29+         1888 winter 25.280664  25.552814  25.280664  26.384333    1.103668\n",
      "Ternate 6QG9RQ29+         1889 winter 26.019667  25.599499  25.280664  26.384333    1.103668\n",
      "Ternate 6QG9RQ29+         1890 winter 25.660002  25.605000  25.280664  26.384333    1.103668\n",
      "Ternate 6QG9RQ29+         1891 winter 25.815332  25.622528  25.280664  26.384333    1.103668\n",
      "Ausführungszeit: 266.182 Sekunden\n"
     ]
    }
   ],
   "source": [
    "\"\"\" Dauer etwa 10 Sekunden \"\"\"\n",
    "\n",
    "# celsius_season_df gruppieren & aggregieren --> ca. 5 Sekunden\n",
    "celsius_season_df = (\n",
    "    celsius_season_df\n",
    "    .sort_values(['City', 'plus_code', 'dt'])\n",
    "    .groupby(['City', 'plus_code', 'season_year', 'season'], as_index=False, observed=True)\n",
    "    .agg(c_avg=('c_avg', 'mean'))\n",
    "    .sort_values(['City', 'season'])\n",
    ")\n",
    "\n",
    "# Kumulierte Aggregetion für Jahreszeiten\n",
    "grouped_season = celsius_season_df.groupby(['City', 'plus_code', 'season'], observed=True)\n",
    "celsius_season_df['c_cum_avg'] = grouped_season['c_avg'].transform(lambda x: x.expanding().mean()).astype('float32')\n",
    "celsius_season_df['c_cum_min'] = grouped_season['c_avg'].transform(lambda x: x.expanding().min()).astype('float32')\n",
    "celsius_season_df['c_cum_max'] = grouped_season['c_avg'].transform(lambda x: x.expanding().max()).astype('float32')\n",
    "del grouped_season\n",
    "\n",
    "# Temperaturdifferenz (c_cum_max - c_cum_min)\n",
    "celsius_season_df['c_cum_diff'] = celsius_season_df['c_cum_max'] - celsius_season_df['c_cum_min']\n",
    "\n",
    "# Ausgabe\n",
    "celsius_season_df.info()\n",
    "print('')\n",
    "print(celsius_season_df[celsius_season_df.City.isin(['Ternate'])].head(12).to_string(index=False))\n",
    "\n",
    "end = time.perf_counter()\n",
    "print(f'Ausführungszeit: {end - start:.3f} Sekunden')"
   ]
  },
  {
   "cell_type": "markdown",
   "id": "0ef76aea-fc32-46b9-a209-2292975e6901",
   "metadata": {},
   "source": [
    "### 3.5. CSV Export\n",
    "DataFrame celsius_season_df wird als CSV gespeichert.\n",
    "- clim_changecelsius_season_df.csv"
   ]
  },
  {
   "cell_type": "code",
   "execution_count": 41,
   "id": "5d694b4b-8041-4e63-bf6d-c07abc88a5e2",
   "metadata": {},
   "outputs": [],
   "source": [
    "\"\"\" Dauer etwa 14 Sekunden \"\"\"\n",
    "\n",
    "# Dataframe als CSV speichern\n",
    "celsius_season_df.to_csv('clim_change_celsius_season_df.csv', index=False)\n",
    "del celsius_season_df"
   ]
  },
  {
   "cell_type": "raw",
   "id": "665849ed-7ec8-4a14-b55c-733cd0581f17",
   "metadata": {},
   "source": [
    "Notizen:\n",
    "\n",
    "Temperatur absolut - kumuliert seit Messbegin\n",
    "Temperaturunterschied - Δ max/min von niedrigster\n",
    "Temperaturunterschied - Δ max/min von höchster\n",
    "\n",
    "Das Dashboard soll unterhalb der Map ein Balkendiagramm erhalten, mit Temperaturverläufen pro Jahr, durch auf der Karte ausgewählten Werten im Hexagon gefiltert.\n",
    "Unter dem Balkendiagramm links soll eine interaktive Liste mit betroffenen Städten sein, mit Ländern als übergeordnetem Index.\n",
    "Rechts neben der Stadt-Liste soll eine interaktive Tabelle mit Hazards und Werten erscheinen, wenn auf eine Stadt geklickt wird.\n",
    "Rechts neben der Hazard-Liste soll eine Liste mit betroffenen Bevölkerungsgruppen erscheinen, wenn auf einen Hazard geklickt wird.\n",
    "\n",
    "Rechts neben dem Jahr-Input sollen Checkbuttons sein, die nach Jahreszeiten filtern:\n",
    "- Alle (default)\n",
    "- Frühling\n",
    "- Sommer\n",
    "- Herbs\n",
    "- Winter\n"
   ]
  }
 ],
 "metadata": {
  "kernelspec": {
   "display_name": "Python 3 (ipykernel)",
   "language": "python",
   "name": "python3"
  },
  "language_info": {
   "codemirror_mode": {
    "name": "ipython",
    "version": 3
   },
   "file_extension": ".py",
   "mimetype": "text/x-python",
   "name": "python",
   "nbconvert_exporter": "python",
   "pygments_lexer": "ipython3",
   "version": "3.12.9"
  }
 },
 "nbformat": 4,
 "nbformat_minor": 5
}
